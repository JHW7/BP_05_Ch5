{
  "nbformat": 4,
  "nbformat_minor": 0,
  "metadata": {
    "colab": {
      "provenance": [],
      "authorship_tag": "ABX9TyPjR8qiP7UScr9m/wFhE2TM",
      "include_colab_link": true
    },
    "kernelspec": {
      "name": "python3",
      "display_name": "Python 3"
    },
    "language_info": {
      "name": "python"
    }
  },
  "cells": [
    {
      "cell_type": "markdown",
      "metadata": {
        "id": "view-in-github",
        "colab_type": "text"
      },
      "source": [
        "<a href=\"https://colab.research.google.com/github/JHW7/BP_05_Ch5/blob/main/BP_05_Ch5.ipynb\" target=\"_parent\"><img src=\"https://colab.research.google.com/assets/colab-badge.svg\" alt=\"Open In Colab\"/></a>"
      ]
    },
    {
      "cell_type": "markdown",
      "source": [
        "1. 다음 프로그램의 출력은 무엇인가?"
      ],
      "metadata": {
        "id": "9wqYq6m8fVNu"
      }
    },
    {
      "cell_type": "code",
      "execution_count": 1,
      "metadata": {
        "colab": {
          "base_uri": "https://localhost:8080/"
        },
        "id": "gpKj6sQHfRec",
        "outputId": "c4208905-01da-45cb-cd3e-d94e66b26d3a"
      },
      "outputs": [
        {
          "output_type": "stream",
          "name": "stdout",
          "text": [
            "20살 이상\n"
          ]
        }
      ],
      "source": [
        "age = 20\n",
        "if age < 20:\n",
        "  print('20살 미만')\n",
        "else:\n",
        "  print('20살 이상')"
      ]
    },
    {
      "cell_type": "markdown",
      "source": [
        "2. 1번 문제에서 age가 30이상이고 50이하인 것을 체크하려면 어떻게 하여야 하는가?"
      ],
      "metadata": {
        "id": "zuYwp3tdfxf1"
      }
    },
    {
      "cell_type": "code",
      "source": [
        "age = 20\n",
        "if age >= 30 and age <= 50:\n",
        "  print('30살 이상이고 50살 이하')"
      ],
      "metadata": {
        "id": "AHzcGGY0f4ae"
      },
      "execution_count": 3,
      "outputs": []
    },
    {
      "cell_type": "markdown",
      "source": [
        "3. 사용자에게 현재 온도를 질문하고 온도사 25도 이상이면 반바지를 추천하고 25도 미만이면 긴바지를 추천하는 프로그램을 작성해보자."
      ],
      "metadata": {
        "id": "aYaaQGNpgFVA"
      }
    },
    {
      "cell_type": "code",
      "source": [
        "temp = int(input(\"현재 온도를 입력하시오: \"))\n",
        "if temp >= 25:                                                               #이상의 숫자\n",
        "  print(\"반바지를 입으세요\")\n",
        "else:                                                                    #반대\n",
        "  print(\"긴바지를 입으세요\")"
      ],
      "metadata": {
        "colab": {
          "base_uri": "https://localhost:8080/"
        },
        "id": "S7chRhGUgQkT",
        "outputId": "1f0e282d-8775-491e-a348-11ba94cbe5f0"
      },
      "execution_count": 5,
      "outputs": [
        {
          "output_type": "stream",
          "name": "stdout",
          "text": [
            "현재 온도를 입력하시오: 24\n",
            "긴바지를 입으세요\n"
          ]
        }
      ]
    },
    {
      "cell_type": "markdown",
      "source": [
        "4. 학생의 시험 점수를 물어보고 시험 점수가 90점 이상이면 A, 80점 이상이면 B, 70점 이상이면 C, 60점 이상이면 D, 그 외의 점수이면 F를 학점으로 주는 프로그램을 작성하라."
      ],
      "metadata": {
        "id": "OF1CU4fugnRy"
      }
    },
    {
      "cell_type": "code",
      "source": [
        "score = int(input(\"성적을 입력하시오: \"))\n",
        "if score >= 90:\n",
        "  print(\"A학점입니다.\")\n",
        "elif score >= 80:\n",
        "  print(\"B학점입니다.\")\n",
        "elif score >= 70:\n",
        "  print(\"C학점입니다.\")\n",
        "elif score >= 60:\n",
        "  print(\"D학점입니다.\")\n",
        "else:\n",
        "  print(\"F학점입니다.\")"
      ],
      "metadata": {
        "colab": {
          "base_uri": "https://localhost:8080/"
        },
        "id": "8imOTRbDg4rr",
        "outputId": "7da230f9-6247-41e8-9f19-64b73f2f0905"
      },
      "execution_count": 6,
      "outputs": [
        {
          "output_type": "stream",
          "name": "stdout",
          "text": [
            "성적을 입력하시오: 50\n",
            "F학점입니다.\n"
          ]
        }
      ]
    },
    {
      "cell_type": "markdown",
      "source": [
        "5. 난수를 사용하여 1부터 100 사이의 숫자를 사용하는 뺄셈 문제를 작성하고 사용자에게 물어본 후에 사용자의 답변이 올바른지를 검사하는 프로그램을 작성하라."
      ],
      "metadata": {
        "id": "owlzeh4Bhqk8"
      }
    },
    {
      "cell_type": "code",
      "source": [
        "import random\n",
        "x = random.randint(1,100)                                                    #랜덤의 숫자\n",
        "y = random.randint(1,100)\n",
        "ans = int(input(str(x)+\"-\"+str(y)+\"=\"))\n",
        "if ans == x - y:\n",
        "  print(\"맞았습니다.\")\n",
        "else:\n",
        "  print(\"틀렸습니다.\")"
      ],
      "metadata": {
        "colab": {
          "base_uri": "https://localhost:8080/"
        },
        "id": "lGyjxkVQh721",
        "outputId": "3861ffdc-ad5e-4e0d-f226-d28cef5840a8"
      },
      "execution_count": 11,
      "outputs": [
        {
          "output_type": "stream",
          "name": "stdout",
          "text": [
            "50-3=47\n",
            "맞았습니다.\n"
          ]
        }
      ]
    },
    {
      "cell_type": "markdown",
      "source": [
        "6. 사용자로부터 정수를 받아서 이 정수가 2와 3으로 나누어떨어질 수 있는지를 출력하라."
      ],
      "metadata": {
        "id": "XMAojZhbiomF"
      }
    },
    {
      "cell_type": "code",
      "source": [
        "n = int(input(\"정수를 입력하시오:\"))\n",
        "if n%2==0 and n%3==0:                                                           \n",
        "  print(\"2와 3으로 나누어 떨어집니다.\")\n",
        "else:\n",
        "  print(\"2와 3으로 나누어 떨어지지 않습니다.\")"
      ],
      "metadata": {
        "colab": {
          "base_uri": "https://localhost:8080/"
        },
        "id": "f79W_TCSivA_",
        "outputId": "5d26fee9-b1ce-49c0-f302-dec25b76f935"
      },
      "execution_count": 12,
      "outputs": [
        {
          "output_type": "stream",
          "name": "stdout",
          "text": [
            "정수를 입력하시오:6\n",
            "2와 3으로 나누어 떨어집니다.\n"
          ]
        }
      ]
    },
    {
      "cell_type": "markdown",
      "source": [
        "7. 2자리 숫자로 이루어진 복권이 있다. 사용자가 가지고 있는 복권 번호가 2자리 모두 일치하면 100만 원을 받는다. 2자리 중에서 하나만 일치하면 50만 원을 받는다. 하나도 일치하지 않으면 상금은 없다. 복권 당첨 번호는 난수로 생성하고 사용자의 입력에 따라서 상금이 얼마인지를 출력하는 프로그램을 작성하라."
      ],
      "metadata": {
        "id": "zDWy974TjIyF"
      }
    },
    {
      "cell_type": "code",
      "source": [
        "import random\n",
        "solution = random.randint(0,99)\n",
        "user = int(input(\"복권번호를 입력하시오(0에서 99사이):\"))\n",
        "digit1 = solution // 10\n",
        "digit2 = solution % 10\n",
        "u_digit1 = user // 10\n",
        "u_digit2 = user % 10\n",
        "print(\"당첨번호는\", solution, \"입니다.\")\n",
        "if(digit1 == u_digit1 and digit2 == u_digit2):\n",
        "  print(\"상금은 100만 원입니다.\")\n",
        "elif(digit1 == u_digit1\n",
        "     or digit1 == u_digit2\n",
        "     or digit2 == u_digit1\n",
        "     or digit2 == u_digit2):\n",
        "  print(\"상금은 50만 원입니다.\")\n",
        "else:\n",
        "  print(\"상금은 없습니다.\")"
      ],
      "metadata": {
        "colab": {
          "base_uri": "https://localhost:8080/"
        },
        "id": "3nu_Dt9wjeYI",
        "outputId": "e80277b7-49dd-4211-af2b-44e337cbcefa"
      },
      "execution_count": 14,
      "outputs": [
        {
          "output_type": "stream",
          "name": "stdout",
          "text": [
            "복권번호를 입력하시오(0에서 99사이):50\n",
            "당첨번호는 1 입니다.\n",
            "상금은 50만 원입니다.\n"
          ]
        }
      ]
    },
    {
      "cell_type": "markdown",
      "source": [
        "8. 사용자로부터 2개의 원에 대한 정보를 받아서 화면에 원을 그린 후에 조건문을 사용하여 큰 원 안에 작은 원이 포함되는지를 판단하는 프로그램을 작성하라. (IDLE)"
      ],
      "metadata": {
        "id": "ZtLDnyiulScZ"
      }
    }
  ]
}